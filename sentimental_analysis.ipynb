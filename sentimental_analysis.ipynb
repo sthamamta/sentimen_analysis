{
  "cells": [
    {
      "cell_type": "markdown",
      "metadata": {
        "colab_type": "text",
        "id": "view-in-github"
      },
      "source": [
        "<a href=\"https://colab.research.google.com/github/sthamamta/sentimental_analysis/blob/master/sentimental_analysis.ipynb\" target=\"_parent\"><img src=\"https://colab.research.google.com/assets/colab-badge.svg\" alt=\"Open In Colab\"/></a>"
      ]
    },
    {
      "cell_type": "code",
      "execution_count": 2,
      "metadata": {
        "colab": {
          "base_uri": "https://localhost:8080/",
          "height": 34
        },
        "colab_type": "code",
        "id": "XcX1ReuncbkF",
        "outputId": "4b1a0ae9-461c-4910-a155-75602c6350a3",
        "vscode": {
          "languageId": "python"
        }
      },
      "outputs": [
        {
          "name": "stdout",
          "output_type": "stream",
          "text": [
            "Requirement already satisfied: numpy==1.16.1 in /usr/local/lib/python3.6/dist-packages (1.16.1)\n"
          ]
        }
      ],
      "source": [
        "pip install numpy==1.16.1"
      ]
    },
    {
      "cell_type": "code",
      "execution_count": 3,
      "metadata": {
        "colab": {
          "base_uri": "https://localhost:8080/",
          "height": 80
        },
        "colab_type": "code",
        "id": "AuN2RdBZeZf4",
        "outputId": "2c840b89-a8e2-4919-9dcd-16d24af4405f",
        "vscode": {
          "languageId": "python"
        }
      },
      "outputs": [
        {
          "name": "stderr",
          "output_type": "stream",
          "text": [
            "Using TensorFlow backend.\n"
          ]
        },
        {
          "data": {
            "text/html": [
              "<p style=\"color: red;\">\n",
              "The default version of TensorFlow in Colab will soon switch to TensorFlow 2.x.<br>\n",
              "We recommend you <a href=\"https://www.tensorflow.org/guide/migrate\" target=\"_blank\">upgrade</a> now \n",
              "or ensure your notebook will continue to use TensorFlow 1.x via the <code>%tensorflow_version 1.x</code> magic:\n",
              "<a href=\"https://colab.research.google.com/notebooks/tensorflow_version.ipynb\" target=\"_blank\">more info</a>.</p>\n"
            ],
            "text/plain": [
              "<IPython.core.display.HTML object>"
            ]
          },
          "metadata": {
            "tags": []
          },
          "output_type": "display_data"
        }
      ],
      "source": [
        "import numpy\n",
        "from numpy import array\n",
        "from keras.datasets import imdb\n",
        "from keras.models import Sequential\n",
        "from keras.layers import Dense\n",
        "from keras.layers import LSTM, Dropout\n",
        "from keras.layers.embeddings import Embedding\n",
        "from keras.preprocessing import sequence\n",
        "from keras.models import load_model\n",
        "import re\n",
        "import numpy as np\n",
        "from nltk.tokenize import word_tokenize\n",
        "import nltk\n",
        "\n",
        "# fix random seed for reproducibility\n",
        "numpy.random.seed(7)"
      ]
    },
    {
      "cell_type": "code",
      "execution_count": 4,
      "metadata": {
        "colab": {
          "base_uri": "https://localhost:8080/",
          "height": 51
        },
        "colab_type": "code",
        "id": "AAkt73HRelUw",
        "outputId": "2fd658fc-fc61-48fd-e37a-3365e58b8ff4",
        "vscode": {
          "languageId": "python"
        }
      },
      "outputs": [
        {
          "name": "stdout",
          "output_type": "stream",
          "text": [
            "Downloading data from https://s3.amazonaws.com/text-datasets/imdb.npz\n",
            "17465344/17464789 [==============================] - 0s 0us/step\n"
          ]
        }
      ],
      "source": [
        "top_words = 5000 #vocabulary_size = 5000\n",
        "(X_train, y_train), (X_test, y_test) = imdb.load_data(num_words=top_words)"
      ]
    },
    {
      "cell_type": "code",
      "execution_count": 5,
      "metadata": {
        "colab": {
          "base_uri": "https://localhost:8080/",
          "height": 105
        },
        "colab_type": "code",
        "id": "PCl6xDkverXx",
        "outputId": "9e7e38c4-dc79-41d4-fd8f-af52b54c227f",
        "vscode": {
          "languageId": "python"
        }
      },
      "outputs": [
        {
          "name": "stdout",
          "output_type": "stream",
          "text": [
            "---review---\n",
            "[1, 2, 365, 1234, 5, 1156, 354, 11, 14, 2, 2, 7, 1016, 2, 2, 356, 44, 4, 1349, 500, 746, 5, 200, 4, 4132, 11, 2, 2, 1117, 1831, 2, 5, 4831, 26, 6, 2, 4183, 17, 369, 37, 215, 1345, 143, 2, 5, 1838, 8, 1974, 15, 36, 119, 257, 85, 52, 486, 9, 6, 2, 2, 63, 271, 6, 196, 96, 949, 4121, 4, 2, 7, 4, 2212, 2436, 819, 63, 47, 77, 2, 180, 6, 227, 11, 94, 2494, 2, 13, 423, 4, 168, 7, 4, 22, 5, 89, 665, 71, 270, 56, 5, 13, 197, 12, 161, 2, 99, 76, 23, 2, 7, 419, 665, 40, 91, 85, 108, 7, 4, 2084, 5, 4773, 81, 55, 52, 1901]\n",
            "---label---\n",
            "1\n"
          ]
        }
      ],
      "source": [
        "#Inspect a sample review and its label.\n",
        "print('---review---')\n",
        "print(X_train[6])\n",
        "print('---label---')\n",
        "print(y_train[6])"
      ]
    },
    {
      "cell_type": "code",
      "execution_count": 6,
      "metadata": {
        "colab": {
          "base_uri": "https://localhost:8080/",
          "height": 139
        },
        "colab_type": "code",
        "id": "LyQXrhPEew5b",
        "outputId": "f7e75947-8879-4785-e91e-d043f4baebbd",
        "vscode": {
          "languageId": "python"
        }
      },
      "outputs": [
        {
          "name": "stdout",
          "output_type": "stream",
          "text": [
            "Downloading data from https://s3.amazonaws.com/text-datasets/imdb_word_index.json\n",
            "1646592/1641221 [==============================] - 0s 0us/step\n",
            "---review with words---\n",
            "['the', 'and', 'full', 'involving', 'to', 'impressive', 'boring', 'this', 'as', 'and', 'and', 'br', 'villain', 'and', 'and', 'need', 'has', 'of', 'costumes', 'b', 'message', 'to', 'may', 'of', 'props', 'this', 'and', 'and', 'concept', 'issue', 'and', 'to', \"god's\", 'he', 'is', 'and', 'unfolds', 'movie', 'women', 'like', \"isn't\", 'surely', \"i'm\", 'and', 'to', 'toward', 'in', \"here's\", 'for', 'from', 'did', 'having', 'because', 'very', 'quality', 'it', 'is', 'and', 'and', 'really', 'book', 'is', 'both', 'too', 'worked', 'carl', 'of', 'and', 'br', 'of', 'reviewer', 'closer', 'figure', 'really', 'there', 'will', 'and', 'things', 'is', 'far', 'this', 'make', 'mistakes', 'and', 'was', \"couldn't\", 'of', 'few', 'br', 'of', 'you', 'to', \"don't\", 'female', 'than', 'place', 'she', 'to', 'was', 'between', 'that', 'nothing', 'and', 'movies', 'get', 'are', 'and', 'br', 'yes', 'female', 'just', 'its', 'because', 'many', 'br', 'of', 'overly', 'to', 'descent', 'people', 'time', 'very', 'bland']\n",
            "---label---\n",
            "1\n"
          ]
        }
      ],
      "source": [
        "word2id = imdb.get_word_index()\n",
        "id2word = {i: word for word, i in word2id.items()}\n",
        "print('---review with words---')\n",
        "print([id2word.get(i, ' ') for i in X_train[6]])\n",
        "print('---label---')\n",
        "print(y_train[6])"
      ]
    },
    {
      "cell_type": "code",
      "execution_count": 8,
      "metadata": {
        "colab": {
          "base_uri": "https://localhost:8080/",
          "height": 34
        },
        "colab_type": "code",
        "id": "8BhvCuyWfzkd",
        "outputId": "d93e8792-5567-4fc1-8461-765bcc4939c7",
        "vscode": {
          "languageId": "python"
        }
      },
      "outputs": [
        {
          "name": "stdout",
          "output_type": "stream",
          "text": [
            "Maximum review length: 2697\n"
          ]
        }
      ],
      "source": [
        "#Maximum review length and minimum review length.\n",
        "print('Maximum review length: {}'.format(\n",
        "len(max((X_train + X_test), key=len))))"
      ]
    },
    {
      "cell_type": "code",
      "execution_count": 9,
      "metadata": {
        "colab": {
          "base_uri": "https://localhost:8080/",
          "height": 34
        },
        "colab_type": "code",
        "id": "Zklurinef3dK",
        "outputId": "02d655b6-13f6-436b-9df7-b111c670bd56",
        "vscode": {
          "languageId": "python"
        }
      },
      "outputs": [
        {
          "name": "stdout",
          "output_type": "stream",
          "text": [
            "Minimum review length: 70\n"
          ]
        }
      ],
      "source": [
        "print('Minimum review length: {}'.format(\n",
        "len(min((X_train + X_test), key=len))))"
      ]
    },
    {
      "cell_type": "code",
      "execution_count": null,
      "metadata": {
        "colab": {},
        "colab_type": "code",
        "id": "I7-ZUIucf7o5",
        "vscode": {
          "languageId": "python"
        }
      },
      "outputs": [],
      "source": [
        "#padding \n",
        "max_review_length = 500\n",
        "X_train = sequence.pad_sequences(X_train, maxlen=max_review_length)\n",
        "X_test = sequence.pad_sequences(X_test, maxlen=max_review_length)"
      ]
    },
    {
      "cell_type": "code",
      "execution_count": 11,
      "metadata": {
        "colab": {
          "base_uri": "https://localhost:8080/",
          "height": 1000
        },
        "colab_type": "code",
        "id": "pswCL8NsgGyj",
        "outputId": "6cbac84d-2f18-40ce-a7d4-d9f01c06aa5f",
        "vscode": {
          "languageId": "python"
        }
      },
      "outputs": [
        {
          "name": "stdout",
          "output_type": "stream",
          "text": [
            "WARNING:tensorflow:From /usr/local/lib/python3.6/dist-packages/keras/backend/tensorflow_backend.py:66: The name tf.get_default_graph is deprecated. Please use tf.compat.v1.get_default_graph instead.\n",
            "\n",
            "WARNING:tensorflow:From /usr/local/lib/python3.6/dist-packages/keras/backend/tensorflow_backend.py:541: The name tf.placeholder is deprecated. Please use tf.compat.v1.placeholder instead.\n",
            "\n",
            "WARNING:tensorflow:From /usr/local/lib/python3.6/dist-packages/keras/backend/tensorflow_backend.py:4432: The name tf.random_uniform is deprecated. Please use tf.random.uniform instead.\n",
            "\n",
            "WARNING:tensorflow:From /usr/local/lib/python3.6/dist-packages/keras/backend/tensorflow_backend.py:148: The name tf.placeholder_with_default is deprecated. Please use tf.compat.v1.placeholder_with_default instead.\n",
            "\n",
            "WARNING:tensorflow:From /usr/local/lib/python3.6/dist-packages/keras/backend/tensorflow_backend.py:3733: calling dropout (from tensorflow.python.ops.nn_ops) with keep_prob is deprecated and will be removed in a future version.\n",
            "Instructions for updating:\n",
            "Please use `rate` instead of `keep_prob`. Rate should be set to `rate = 1 - keep_prob`.\n",
            "WARNING:tensorflow:From /usr/local/lib/python3.6/dist-packages/keras/optimizers.py:793: The name tf.train.Optimizer is deprecated. Please use tf.compat.v1.train.Optimizer instead.\n",
            "\n",
            "WARNING:tensorflow:From /usr/local/lib/python3.6/dist-packages/keras/backend/tensorflow_backend.py:3657: The name tf.log is deprecated. Please use tf.math.log instead.\n",
            "\n",
            "WARNING:tensorflow:From /usr/local/lib/python3.6/dist-packages/tensorflow_core/python/ops/nn_impl.py:183: where (from tensorflow.python.ops.array_ops) is deprecated and will be removed in a future version.\n",
            "Instructions for updating:\n",
            "Use tf.where in 2.0, which has the same broadcast rule as np.where\n",
            "Model: \"sequential_1\"\n",
            "_________________________________________________________________\n",
            "Layer (type)                 Output Shape              Param #   \n",
            "=================================================================\n",
            "embedding_1 (Embedding)      (None, 500, 32)           160000    \n",
            "_________________________________________________________________\n",
            "dropout_1 (Dropout)          (None, 500, 32)           0         \n",
            "_________________________________________________________________\n",
            "lstm_1 (LSTM)                (None, 100)               53200     \n",
            "_________________________________________________________________\n",
            "dropout_2 (Dropout)          (None, 100)               0         \n",
            "_________________________________________________________________\n",
            "dense_1 (Dense)              (None, 1)                 101       \n",
            "=================================================================\n",
            "Total params: 213,301\n",
            "Trainable params: 213,301\n",
            "Non-trainable params: 0\n",
            "_________________________________________________________________\n",
            "None\n",
            "WARNING:tensorflow:From /usr/local/lib/python3.6/dist-packages/keras/backend/tensorflow_backend.py:1033: The name tf.assign_add is deprecated. Please use tf.compat.v1.assign_add instead.\n",
            "\n",
            "WARNING:tensorflow:From /usr/local/lib/python3.6/dist-packages/keras/backend/tensorflow_backend.py:1020: The name tf.assign is deprecated. Please use tf.compat.v1.assign instead.\n",
            "\n",
            "WARNING:tensorflow:From /usr/local/lib/python3.6/dist-packages/keras/backend/tensorflow_backend.py:3005: The name tf.Session is deprecated. Please use tf.compat.v1.Session instead.\n",
            "\n",
            "Train on 25000 samples, validate on 25000 samples\n",
            "Epoch 1/30\n",
            "WARNING:tensorflow:From /usr/local/lib/python3.6/dist-packages/keras/backend/tensorflow_backend.py:190: The name tf.get_default_session is deprecated. Please use tf.compat.v1.get_default_session instead.\n",
            "\n",
            "WARNING:tensorflow:From /usr/local/lib/python3.6/dist-packages/keras/backend/tensorflow_backend.py:197: The name tf.ConfigProto is deprecated. Please use tf.compat.v1.ConfigProto instead.\n",
            "\n",
            "WARNING:tensorflow:From /usr/local/lib/python3.6/dist-packages/keras/backend/tensorflow_backend.py:207: The name tf.global_variables is deprecated. Please use tf.compat.v1.global_variables instead.\n",
            "\n",
            "WARNING:tensorflow:From /usr/local/lib/python3.6/dist-packages/keras/backend/tensorflow_backend.py:216: The name tf.is_variable_initialized is deprecated. Please use tf.compat.v1.is_variable_initialized instead.\n",
            "\n",
            "WARNING:tensorflow:From /usr/local/lib/python3.6/dist-packages/keras/backend/tensorflow_backend.py:223: The name tf.variables_initializer is deprecated. Please use tf.compat.v1.variables_initializer instead.\n",
            "\n",
            "25000/25000 [==============================] - 379s 15ms/step - loss: 0.5103 - acc: 0.7336 - val_loss: 0.3749 - val_acc: 0.8393\n",
            "Epoch 2/30\n",
            "25000/25000 [==============================] - 375s 15ms/step - loss: 0.3119 - acc: 0.8722 - val_loss: 0.3071 - val_acc: 0.8719\n",
            "Epoch 3/30\n",
            "25000/25000 [==============================] - 374s 15ms/step - loss: 0.2935 - acc: 0.8796 - val_loss: 0.3197 - val_acc: 0.8687\n",
            "Epoch 4/30\n",
            "25000/25000 [==============================] - 370s 15ms/step - loss: 0.2387 - acc: 0.9073 - val_loss: 0.3108 - val_acc: 0.8743\n",
            "Epoch 5/30\n",
            "25000/25000 [==============================] - 370s 15ms/step - loss: 0.1989 - acc: 0.9266 - val_loss: 0.3219 - val_acc: 0.8760\n",
            "Epoch 6/30\n",
            "25000/25000 [==============================] - 371s 15ms/step - loss: 0.1774 - acc: 0.9336 - val_loss: 0.3769 - val_acc: 0.8637\n",
            "Epoch 7/30\n",
            "25000/25000 [==============================] - 373s 15ms/step - loss: 0.1731 - acc: 0.9349 - val_loss: 0.3884 - val_acc: 0.8709\n",
            "Epoch 8/30\n",
            "25000/25000 [==============================] - 373s 15ms/step - loss: 0.1590 - acc: 0.9404 - val_loss: 0.3995 - val_acc: 0.8448\n",
            "Epoch 9/30\n",
            "25000/25000 [==============================] - 375s 15ms/step - loss: 0.1334 - acc: 0.9505 - val_loss: 0.3946 - val_acc: 0.8682\n",
            "Epoch 10/30\n",
            "25000/25000 [==============================] - 376s 15ms/step - loss: 0.1318 - acc: 0.9510 - val_loss: 0.4319 - val_acc: 0.8561\n",
            "Epoch 11/30\n",
            "25000/25000 [==============================] - 376s 15ms/step - loss: 0.1095 - acc: 0.9599 - val_loss: 0.4833 - val_acc: 0.8553\n",
            "Epoch 12/30\n",
            "25000/25000 [==============================] - 376s 15ms/step - loss: 0.1094 - acc: 0.9620 - val_loss: 0.4438 - val_acc: 0.8605\n",
            "Epoch 13/30\n",
            "25000/25000 [==============================] - 377s 15ms/step - loss: 0.1021 - acc: 0.9636 - val_loss: 0.4743 - val_acc: 0.8635\n",
            "Epoch 14/30\n",
            "25000/25000 [==============================] - 373s 15ms/step - loss: 0.0826 - acc: 0.9708 - val_loss: 0.5198 - val_acc: 0.8616\n",
            "Epoch 15/30\n",
            "25000/25000 [==============================] - 374s 15ms/step - loss: 0.0949 - acc: 0.9664 - val_loss: 0.5229 - val_acc: 0.8606\n",
            "Epoch 16/30\n",
            "25000/25000 [==============================] - 373s 15ms/step - loss: 0.0743 - acc: 0.9750 - val_loss: 0.5626 - val_acc: 0.8576\n",
            "Epoch 17/30\n",
            "25000/25000 [==============================] - 372s 15ms/step - loss: 0.1016 - acc: 0.9644 - val_loss: 0.5723 - val_acc: 0.8615\n",
            "Epoch 18/30\n",
            "25000/25000 [==============================] - 373s 15ms/step - loss: 0.0614 - acc: 0.9794 - val_loss: 0.5563 - val_acc: 0.8595\n",
            "Epoch 19/30\n",
            "25000/25000 [==============================] - 373s 15ms/step - loss: 0.0587 - acc: 0.9802 - val_loss: 0.6431 - val_acc: 0.8564\n",
            "Epoch 20/30\n",
            "25000/25000 [==============================] - 374s 15ms/step - loss: 0.0854 - acc: 0.9708 - val_loss: 0.5395 - val_acc: 0.8497\n",
            "Epoch 21/30\n",
            "25000/25000 [==============================] - 377s 15ms/step - loss: 0.0606 - acc: 0.9799 - val_loss: 0.5915 - val_acc: 0.8537\n",
            "Epoch 22/30\n",
            "25000/25000 [==============================] - 376s 15ms/step - loss: 0.0486 - acc: 0.9834 - val_loss: 0.5963 - val_acc: 0.8577\n",
            "Epoch 23/30\n",
            "25000/25000 [==============================] - 378s 15ms/step - loss: 0.0940 - acc: 0.9674 - val_loss: 0.5704 - val_acc: 0.8577\n",
            "Epoch 24/30\n",
            "25000/25000 [==============================] - 375s 15ms/step - loss: 0.0495 - acc: 0.9842 - val_loss: 0.6263 - val_acc: 0.8581\n",
            "Epoch 25/30\n",
            "25000/25000 [==============================] - 376s 15ms/step - loss: 0.0365 - acc: 0.9878 - val_loss: 0.6722 - val_acc: 0.8568\n",
            "Epoch 26/30\n",
            "25000/25000 [==============================] - 374s 15ms/step - loss: 0.0359 - acc: 0.9886 - val_loss: 0.7230 - val_acc: 0.8560\n",
            "Epoch 27/30\n",
            "25000/25000 [==============================] - 373s 15ms/step - loss: 0.0920 - acc: 0.9680 - val_loss: 0.6296 - val_acc: 0.8564\n",
            "Epoch 28/30\n",
            "25000/25000 [==============================] - 374s 15ms/step - loss: 0.0415 - acc: 0.9871 - val_loss: 0.6423 - val_acc: 0.8517\n",
            "Epoch 29/30\n",
            "25000/25000 [==============================] - 376s 15ms/step - loss: 0.0352 - acc: 0.9893 - val_loss: 0.6794 - val_acc: 0.8563\n",
            "Epoch 30/30\n",
            "25000/25000 [==============================] - 375s 15ms/step - loss: 0.0330 - acc: 0.9898 - val_loss: 0.7999 - val_acc: 0.8483\n",
            "{'val_loss': [0.3749327478027344, 0.3071324413537979, 0.3197084528398514, 0.31081143679618833, 0.3218729920053482, 0.3769284367656708, 0.3884285463523865, 0.39946395248413086, 0.3946413599586487, 0.43187524768829344, 0.4832542227458954, 0.44384119842529296, 0.47433591903686523, 0.5197649739456177, 0.5229072306919098, 0.5626090793991089, 0.5722575334739685, 0.5562767398166657, 0.6430704009056092, 0.5395091283416749, 0.5915318256950378, 0.5963301138877869, 0.5703798549938202, 0.6262832011032105, 0.6721984156370163, 0.7229523659324646, 0.6296223261022568, 0.642306189622879, 0.6793677842855453, 0.7999061898040771], 'val_acc': [0.8393199999809265, 0.871919999961853, 0.8686799999618531, 0.874279999961853, 0.87596, 0.8637199999809265, 0.87092, 0.8448000000381469, 0.8682, 0.85612, 0.85528, 0.860479999961853, 0.863479999961853, 0.86156, 0.860600000038147, 0.8575999999809265, 0.861519999961853, 0.859520000038147, 0.8564000000190735, 0.84972, 0.8536799999809265, 0.85768, 0.85768, 0.8581200000381469, 0.8568000000190735, 0.8560399999809265, 0.8564000000190735, 0.85168, 0.8562799999809265, 0.84832], 'loss': [0.5102512072372436, 0.31190249035835266, 0.29345576036453247, 0.2386561965751648, 0.19894517361640932, 0.17737327674150466, 0.1731258654022217, 0.15897862452983857, 0.1334102363371849, 0.13178310937404633, 0.10945127041220665, 0.1093991486811638, 0.10214788284778595, 0.08256662196516991, 0.0948549006986618, 0.07433627591848374, 0.10164252767980099, 0.061420093210339546, 0.05866453736901283, 0.08537789348363876, 0.06055334066450596, 0.04857420359015465, 0.0940157962346077, 0.0494888122010231, 0.03647595494747162, 0.035889707650840284, 0.0919692670595646, 0.04148248739808798, 0.035199799810349944, 0.032975762782096865], 'acc': [0.7336000000190734, 0.872160000038147, 0.8796399999809266, 0.9073200000190735, 0.926559999961853, 0.9336, 0.934879999961853, 0.940440000038147, 0.95048, 0.9510000000190735, 0.9599200000381469, 0.9619599999809265, 0.963640000038147, 0.9708, 0.9663600000381469, 0.97496, 0.96444, 0.97944, 0.98024, 0.9707600000190735, 0.9799200000381469, 0.983400000038147, 0.9673999999809265, 0.984160000038147, 0.98784, 0.988600000038147, 0.967960000038147, 0.98708, 0.989280000038147, 0.98984]}\n"
          ]
        }
      ],
      "source": [
        "\n",
        "# creating the model\n",
        "embedding_vecor_length = 32\n",
        "model = Sequential()\n",
        "model.add(Embedding(top_words, embedding_vecor_length, input_length=max_review_length))\n",
        "model.add(Dropout(0.2))\n",
        "model.add(LSTM(100))\n",
        "model.add(Dropout(0.2))\n",
        "model.add(Dense(1, activation='sigmoid'))\n",
        "\n",
        "model.compile(loss='binary_crossentropy', optimizer='adam', metrics=['accuracy'])\n",
        "print(model.summary())\n",
        "hist =model.fit(X_train, y_train, validation_data=(X_test, y_test), epochs=30, batch_size=64)\n",
        "print(hist.history)"
      ]
    },
    {
      "cell_type": "code",
      "execution_count": null,
      "metadata": {
        "colab": {
          "base_uri": "https://localhost:8080/",
          "height": 34
        },
        "colab_type": "code",
        "id": "o_gcq9SO3Fju",
        "outputId": "fca914d8-8c16-4f32-e3ef-9f6a5af795e5",
        "vscode": {
          "languageId": "python"
        }
      },
      "outputs": [
        {
          "name": "stdout",
          "output_type": "stream",
          "text": [
            "Accuracy: 87.61%\n"
          ]
        }
      ],
      "source": [
        "#Calculating Accuracy\n",
        "scores = model.evaluate(X_test, y_test, verbose=0)\n",
        "print(\"Accuracy: %.2f%%\" % (scores[1]*100))"
      ]
    },
    {
      "cell_type": "code",
      "execution_count": 12,
      "metadata": {
        "colab": {
          "base_uri": "https://localhost:8080/",
          "height": 573
        },
        "colab_type": "code",
        "id": "cziQf7kq3hGN",
        "outputId": "80c13861-e63e-4ebe-97d7-c6763c5704e5",
        "vscode": {
          "languageId": "python"
        }
      },
      "outputs": [
        {
          "data": {
            "image/png": "[encoded data removed]",
            "text/plain": [
              "<Figure size 432x288 with 1 Axes>"
            ]
          },
          "metadata": {
            "tags": []
          },
          "output_type": "display_data"
        },
        {
          "data": {
            "image/png": "[encoded data removed]",
            "text/plain": [
              "<Figure size 432x288 with 1 Axes>"
            ]
          },
          "metadata": {
            "tags": []
          },
          "output_type": "display_data"
        }
      ],
      "source": [
        "\n",
        "import matplotlib.pyplot as plt\n",
        "\n",
        "# Plot training & validation accuracy values\n",
        "plt.plot(hist.history['acc'])\n",
        "plt.plot(hist.history['val_acc'])\n",
        "plt.title('Model accuracy')\n",
        "plt.ylabel('Accuracy')\n",
        "plt.xlabel('Epoch')\n",
        "plt.legend(['Train', 'Test'], loc='upper left')\n",
        "# plt.savefig(\"abc76.png\")\n",
        "plt.show()\n",
        "\n",
        "# Plot training & validation loss values\n",
        "plt.plot(hist.history['loss'])\n",
        "plt.plot(hist.history['val_loss'])\n",
        "plt.title('Model loss')\n",
        "plt.ylabel('Loss')\n",
        "plt.xlabel('Epoch')\n",
        "plt.legend(['Train', 'Test'], loc='upper left')\n",
        "\n",
        "plt.show()"
      ]
    },
    {
      "cell_type": "code",
      "execution_count": 13,
      "metadata": {
        "colab": {
          "base_uri": "https://localhost:8080/",
          "height": 275
        },
        "colab_type": "code",
        "id": "u1KUSuuF33lp",
        "outputId": "257b8973-62dc-4b56-bdb5-b5c676880e12",
        "vscode": {
          "languageId": "python"
        }
      },
      "outputs": [
        {
          "name": "stdout",
          "output_type": "stream",
          "text": [
            "Requirement already satisfied: pydrive in /usr/local/lib/python3.6/dist-packages (1.3.1)\n",
            "Requirement already satisfied: oauth2client>=4.0.0 in /usr/local/lib/python3.6/dist-packages (from pydrive) (4.1.3)\n",
            "Requirement already satisfied: google-api-python-client>=1.2 in /usr/local/lib/python3.6/dist-packages (from pydrive) (1.7.11)\n",
            "Requirement already satisfied: PyYAML>=3.0 in /usr/local/lib/python3.6/dist-packages (from pydrive) (3.13)\n",
            "Requirement already satisfied: httplib2>=0.9.1 in /usr/local/lib/python3.6/dist-packages (from oauth2client>=4.0.0->pydrive) (0.11.3)\n",
            "Requirement already satisfied: pyasn1>=0.1.7 in /usr/local/lib/python3.6/dist-packages (from oauth2client>=4.0.0->pydrive) (0.4.8)\n",
            "Requirement already satisfied: six>=1.6.1 in /usr/local/lib/python3.6/dist-packages (from oauth2client>=4.0.0->pydrive) (1.12.0)\n",
            "Requirement already satisfied: pyasn1-modules>=0.0.5 in /usr/local/lib/python3.6/dist-packages (from oauth2client>=4.0.0->pydrive) (0.2.8)\n",
            "Requirement already satisfied: rsa>=3.1.4 in /usr/local/lib/python3.6/dist-packages (from oauth2client>=4.0.0->pydrive) (4.0)\n",
            "Requirement already satisfied: google-auth>=1.4.1 in /usr/local/lib/python3.6/dist-packages (from google-api-python-client>=1.2->pydrive) (1.7.2)\n",
            "Requirement already satisfied: uritemplate<4dev,>=3.0.0 in /usr/local/lib/python3.6/dist-packages (from google-api-python-client>=1.2->pydrive) (3.0.1)\n",
            "Requirement already satisfied: google-auth-httplib2>=0.0.3 in /usr/local/lib/python3.6/dist-packages (from google-api-python-client>=1.2->pydrive) (0.0.3)\n",
            "Requirement already satisfied: cachetools<3.2,>=2.0.0 in /usr/local/lib/python3.6/dist-packages (from google-auth>=1.4.1->google-api-python-client>=1.2->pydrive) (3.1.1)\n",
            "Requirement already satisfied: setuptools>=40.3.0 in /usr/local/lib/python3.6/dist-packages (from google-auth>=1.4.1->google-api-python-client>=1.2->pydrive) (45.1.0)\n"
          ]
        }
      ],
      "source": [
        "!pip install pydrive"
      ]
    },
    {
      "cell_type": "code",
      "execution_count": null,
      "metadata": {
        "colab": {},
        "colab_type": "code",
        "id": "FDirByjp9s-y",
        "vscode": {
          "languageId": "python"
        }
      },
      "outputs": [],
      "source": [
        "!pip install -U -q PyDrive\n",
        "from pydrive.auth import GoogleAuth\n",
        "from pydrive.drive import GoogleDrive \n",
        "from google.colab import auth \n",
        "from oauth2client.client import GoogleCredentials"
      ]
    },
    {
      "cell_type": "code",
      "execution_count": null,
      "metadata": {
        "colab": {},
        "colab_type": "code",
        "id": "5Qz9KcmZ95Ic",
        "vscode": {
          "languageId": "python"
        }
      },
      "outputs": [],
      "source": [
        "auth.authenticate_user()\n",
        "gauth = GoogleAuth()\n",
        "gauth.credentials = GoogleCredentials.get_application_default()    \n",
        "drive = GoogleDrive(gauth)"
      ]
    },
    {
      "cell_type": "code",
      "execution_count": null,
      "metadata": {
        "colab": {},
        "colab_type": "code",
        "id": "3_YbXKJV-J4b",
        "vscode": {
          "languageId": "python"
        }
      },
      "outputs": [],
      "source": [
        "model.save('sentiment.h5')\n",
        "model_file = drive.CreateFile({'title' : 'sentiment.h5'})    \n",
        "model_file.SetContentFile('sentiment.h5')       \n",
        "model_file.Upload()"
      ]
    },
    {
      "cell_type": "code",
      "execution_count": 25,
      "metadata": {
        "colab": {
          "base_uri": "https://localhost:8080/",
          "height": 34
        },
        "colab_type": "code",
        "id": "a2i36M1p-Vhp",
        "outputId": "64a4986e-c738-4008-cc9b-0457b60b77bb",
        "vscode": {
          "languageId": "python"
        }
      },
      "outputs": [
        {
          "data": {
            "text/plain": [
              "GoogleDriveFile({'id': '1O6Pb6TTXEx54x4c-L_E3eSYufvwZ_WNx'})"
            ]
          },
          "execution_count": 25,
          "metadata": {
            "tags": []
          },
          "output_type": "execute_result"
        }
      ],
      "source": [
        "# download to google drive    \n",
        "drive.CreateFile({'id': model_file.get('id')})"
      ]
    },
    {
      "cell_type": "code",
      "execution_count": null,
      "metadata": {
        "colab": {},
        "colab_type": "code",
        "id": "2xsXrXME-eEQ",
        "vscode": {
          "languageId": "python"
        }
      },
      "outputs": [],
      "source": [
        "file_obj = drive.CreateFile({'id': '1O6Pb6TTXEx54x4c-L_E3eSYufvwZ_WNx'})     \n",
        "file_obj.GetContentFile('keras.h5')"
      ]
    }
  ],
  "metadata": {
    "colab": {
      "authorship_tag": "ABX9TyNit9D3S+KU7ptsB64pR0Hv",
      "include_colab_link": true,
      "name": "Untitled13.ipynb",
      "provenance": []
    },
    "kernelspec": {
      "display_name": "Python 3",
      "name": "python3"
    }
  },
  "nbformat": 4,
  "nbformat_minor": 0
}
